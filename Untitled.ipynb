{
 "cells": [
  {
   "cell_type": "code",
   "execution_count": 20,
   "metadata": {},
   "outputs": [],
   "source": [
    "handler = open('f.txt', 'a')"
   ]
  },
  {
   "cell_type": "code",
   "execution_count": 21,
   "metadata": {},
   "outputs": [],
   "source": [
    "handler.write('hello\\n')\n",
    "handler.close()"
   ]
  },
  {
   "cell_type": "code",
   "execution_count": 23,
   "metadata": {},
   "outputs": [
    {
     "name": "stdout",
     "output_type": "stream",
     "text": [
      "[master 77fe8a5] added one more time\n",
      " 2 files changed, 44 insertions(+), 4 deletions(-)\n",
      "[master c42b4f9] added one more time\n",
      " 1 file changed, 1 insertion(+)\n",
      "[master 1a2aa5a] added one more time\n",
      " 1 file changed, 1 insertion(+)\n",
      "[master 44edfca] added one more time\n",
      " 1 file changed, 1 insertion(+)\n",
      "[master da4dc23] added one more time\n",
      " 1 file changed, 1 insertion(+)\n",
      "[master 0781fa9] added one more time\n",
      " 1 file changed, 1 insertion(+)\n",
      "[master 3d8f4d8] added one more time\n",
      " 1 file changed, 1 insertion(+)\n",
      "[master f37d02f] added one more time\n",
      " 1 file changed, 1 insertion(+)\n",
      "[master b61d741] added one more time\n",
      " 1 file changed, 1 insertion(+)\n",
      "[master fdfb832] added one more time\n",
      " 1 file changed, 1 insertion(+)\n"
     ]
    }
   ],
   "source": [
    "for i in range(10):\n",
    "    handler = open('f.txt', 'a')\n",
    "    handler.write('hello world\\n')\n",
    "    handler.close()\n",
    "    !git add -A\n",
    "    !git commit -m \"added one more time\""
   ]
  },
  {
   "cell_type": "code",
   "execution_count": 25,
   "metadata": {},
   "outputs": [
    {
     "name": "stdout",
     "output_type": "stream",
     "text": [
      "* \u001b[33mfdfb832\u001b[m\u001b[33m (\u001b[m\u001b[1;36mHEAD -> \u001b[m\u001b[1;32mmaster\u001b[m\u001b[33m)\u001b[m added one more time\r\n",
      "* \u001b[33mb61d741\u001b[m added one more time\r\n",
      "* \u001b[33mf37d02f\u001b[m added one more time\r\n",
      "* \u001b[33m3d8f4d8\u001b[m added one more time\r\n",
      "* \u001b[33m0781fa9\u001b[m added one more time\r\n",
      "* \u001b[33mda4dc23\u001b[m added one more time\r\n",
      "* \u001b[33m44edfca\u001b[m added one more time\r\n",
      "* \u001b[33m1a2aa5a\u001b[m added one more time\r\n",
      "* \u001b[33mc42b4f9\u001b[m added one more time\r\n",
      "* \u001b[33m77fe8a5\u001b[m added one more time\r\n",
      "* \u001b[33m40f069c\u001b[m added one more time\r\n",
      "* \u001b[33m873c806\u001b[m added one more time\r\n",
      "* \u001b[33m12a0737\u001b[m added one more time\r\n",
      "* \u001b[33mbf07c34\u001b[m added one more time\r\n",
      "* \u001b[33m87d2015\u001b[m added one more time\r\n",
      "* \u001b[33m6967465\u001b[m added one more time\r\n",
      "* \u001b[33m7f58ef8\u001b[m added one more time\r\n",
      "* \u001b[33m70577c8\u001b[m added one more time\r\n",
      "* \u001b[33me0f3c12\u001b[m added one more time\r\n",
      "* \u001b[33m836cbd3\u001b[m added one more time\r\n",
      "* \u001b[33mf6e57ff\u001b[m\u001b[33m (\u001b[m\u001b[1;31morigin/master\u001b[m\u001b[33m)\u001b[m fully added\r\n",
      "* \u001b[33m14c0149\u001b[m partial added\r\n",
      "\u001b[31m|\u001b[m *   \u001b[33mfb64104\u001b[m\u001b[33m (\u001b[m\u001b[1;31morigin/greeter\u001b[m\u001b[33m, \u001b[m\u001b[1;32mgreeter\u001b[m\u001b[33m)\u001b[m merging manually\r\n",
      "\u001b[31m|\u001b[m \u001b[32m|\u001b[m\u001b[33m\\\u001b[m  \r\n",
      "\u001b[31m|\u001b[m \u001b[32m|\u001b[m * \u001b[33m7bdc490\u001b[m\u001b[33m (\u001b[m\u001b[1;31morigin/gitlearning\u001b[m\u001b[33m, \u001b[m\u001b[1;32mgitlearning\u001b[m\u001b[33m)\u001b[m mod file01.py\r\n",
      "\u001b[31m|\u001b[m \u001b[32m|\u001b[m\u001b[31m/\u001b[m  \r\n",
      "\u001b[31m|\u001b[m\u001b[31m/\u001b[m\u001b[32m|\u001b[m   \r\n",
      "\u001b[31m|\u001b[m * \u001b[33m577e302\u001b[m sheldon greeter\r\n",
      "\u001b[31m|\u001b[m\u001b[31m/\u001b[m  \r\n",
      "* \u001b[33m4d75524\u001b[m greet by name\r\n",
      "* \u001b[33m3f7dc8d\u001b[m added file2\r\n",
      "* \u001b[33m327a086\u001b[m committing file01.py to my first git repo\r\n"
     ]
    }
   ],
   "source": [
    "!git fulltree"
   ]
  }
 ],
 "metadata": {
  "kernelspec": {
   "display_name": "Python 3",
   "language": "python",
   "name": "python3"
  },
  "language_info": {
   "codemirror_mode": {
    "name": "ipython",
    "version": 3
   },
   "file_extension": ".py",
   "mimetype": "text/x-python",
   "name": "python",
   "nbconvert_exporter": "python",
   "pygments_lexer": "ipython3",
   "version": "3.6.8"
  }
 },
 "nbformat": 4,
 "nbformat_minor": 2
}
