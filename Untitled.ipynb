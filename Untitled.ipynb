{
 "cells": [
  {
   "cell_type": "code",
   "execution_count": 20,
   "metadata": {},
   "outputs": [],
   "source": [
    "handler = open('f.txt', 'a')"
   ]
  },
  {
   "cell_type": "code",
   "execution_count": 21,
   "metadata": {},
   "outputs": [],
   "source": [
    "handler.write('hello\\n')\n",
    "handler.close()"
   ]
  },
  {
   "cell_type": "code",
   "execution_count": 22,
   "metadata": {},
   "outputs": [
    {
     "name": "stdout",
     "output_type": "stream",
     "text": [
      "[master 836cbd3] added one more time\n",
      " 4 files changed, 66 insertions(+), 1 deletion(-)\n",
      " create mode 100644 .ipynb_checkpoints/Untitled-checkpoint.ipynb\n",
      " create mode 100644 Untitled.ipynb\n",
      " create mode 100644 f.txt\n",
      "[master e0f3c12] added one more time\n",
      " 1 file changed, 1 insertion(+)\n",
      "[master 70577c8] added one more time\n",
      " 1 file changed, 1 insertion(+)\n",
      "[master 7f58ef8] added one more time\n",
      " 1 file changed, 1 insertion(+)\n",
      "[master 6967465] added one more time\n",
      " 1 file changed, 1 insertion(+)\n",
      "[master 87d2015] added one more time\n",
      " 1 file changed, 1 insertion(+)\n",
      "[master bf07c34] added one more time\n",
      " 1 file changed, 1 insertion(+)\n",
      "[master 12a0737] added one more time\n",
      " 1 file changed, 1 insertion(+)\n",
      "[master 873c806] added one more time\n",
      " 1 file changed, 1 insertion(+)\n",
      "[master 40f069c] added one more time\n",
      " 1 file changed, 1 insertion(+)\n"
     ]
    }
   ],
   "source": [
    "for i in range(10):\n",
    "    handler = open('f.txt', 'a')\n",
    "    handler.write('hello world\\n')\n",
    "    handler.close()\n",
    "    !git add -A\n",
    "    !git commit -m \"added one more time\""
   ]
  },
  {
   "cell_type": "code",
   "execution_count": null,
   "metadata": {},
   "outputs": [],
   "source": []
  }
 ],
 "metadata": {
  "kernelspec": {
   "display_name": "Python 3",
   "language": "python",
   "name": "python3"
  },
  "language_info": {
   "codemirror_mode": {
    "name": "ipython",
    "version": 3
   },
   "file_extension": ".py",
   "mimetype": "text/x-python",
   "name": "python",
   "nbconvert_exporter": "python",
   "pygments_lexer": "ipython3",
   "version": "3.6.8"
  }
 },
 "nbformat": 4,
 "nbformat_minor": 2
}
